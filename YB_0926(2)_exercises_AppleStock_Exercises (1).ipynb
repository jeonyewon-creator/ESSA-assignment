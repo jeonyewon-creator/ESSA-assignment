{
  "nbformat": 4,
  "nbformat_minor": 0,
  "metadata": {
    "anaconda-cloud": {},
    "kernelspec": {
      "display_name": "Python [default]",
      "language": "python",
      "name": "python2"
    },
    "language_info": {
      "codemirror_mode": {
        "name": "ipython",
        "version": 2
      },
      "file_extension": ".py",
      "mimetype": "text/x-python",
      "name": "python",
      "nbconvert_exporter": "python",
      "pygments_lexer": "ipython2",
      "version": "2.7.12"
    },
    "colab": {
      "provenance": []
    }
  },
  "cells": [
    {
      "cell_type": "markdown",
      "metadata": {
        "id": "on6xgUECVXIz"
      },
      "source": [
        "# Apple Stock"
      ]
    },
    {
      "cell_type": "markdown",
      "metadata": {
        "id": "yRb05F3RVXJI"
      },
      "source": [
        "### Introduction:\n",
        "\n",
        "We are going to use Apple's stock price.\n",
        "\n",
        "\n",
        "### Step 1. Import the necessary libraries"
      ]
    },
    {
      "cell_type": "code",
      "metadata": {
        "id": "4g8N0RkRVXJN"
      },
      "source": [
        "import pandas as pd\n",
        "import numpy as np"
      ],
      "execution_count": 18,
      "outputs": []
    },
    {
      "cell_type": "markdown",
      "metadata": {
        "id": "PadQE1mnVXJS"
      },
      "source": [
        "### Step 2. Import the dataset from this [address](https://raw.githubusercontent.com/guipsamora/pandas_exercises/master/09_Time_Series/Apple_Stock/appl_1980_2014.csv)"
      ]
    },
    {
      "cell_type": "code",
      "metadata": {
        "collapsed": true,
        "id": "jFE0126tVXJU"
      },
      "source": [
        "data = pd.read_csv('https://raw.githubusercontent.com/guipsamora/pandas_exercises/master/09_Time_Series/Apple_Stock/appl_1980_2014.csv',sep=',')"
      ],
      "execution_count": 19,
      "outputs": []
    },
    {
      "cell_type": "markdown",
      "metadata": {
        "id": "0szUfJRXVXJY"
      },
      "source": [
        "### Step 3. Assign it to a variable apple"
      ]
    },
    {
      "cell_type": "code",
      "metadata": {
        "id": "-OGkJEZNVXJa"
      },
      "source": [
        "apple=data"
      ],
      "execution_count": 20,
      "outputs": []
    },
    {
      "cell_type": "markdown",
      "metadata": {
        "id": "TBxUymvFVXJc"
      },
      "source": [
        "### Step 4.  Check out the type of the columns"
      ]
    },
    {
      "cell_type": "code",
      "metadata": {
        "id": "hh_Qct_DVXJg",
        "colab": {
          "base_uri": "https://localhost:8080/"
        },
        "outputId": "f4cdd8f9-f8ef-46c8-f152-d7923d28ecd8"
      },
      "source": [
        "print(apple.dtypes)"
      ],
      "execution_count": 21,
      "outputs": [
        {
          "output_type": "stream",
          "name": "stdout",
          "text": [
            "Date          object\n",
            "Open         float64\n",
            "High         float64\n",
            "Low          float64\n",
            "Close        float64\n",
            "Volume         int64\n",
            "Adj Close    float64\n",
            "dtype: object\n"
          ]
        }
      ]
    },
    {
      "cell_type": "markdown",
      "metadata": {
        "id": "gSo835mZVXJj"
      },
      "source": [
        "### Step 5. Transform the Date column as a datetime type"
      ]
    },
    {
      "cell_type": "code",
      "metadata": {
        "id": "TZHt_GTCVXJm",
        "colab": {
          "base_uri": "https://localhost:8080/"
        },
        "outputId": "3a6e1fc4-b461-49bc-b55c-8f9428ebf6cf"
      },
      "source": [
        "apple['Date'] = pd.to_datetime(apple['Date'])\n",
        "print(apple['Date'].dtype)"
      ],
      "execution_count": 22,
      "outputs": [
        {
          "output_type": "stream",
          "name": "stdout",
          "text": [
            "datetime64[ns]\n"
          ]
        }
      ]
    },
    {
      "cell_type": "markdown",
      "metadata": {
        "id": "KnpuOPx1VXJn"
      },
      "source": [
        "### Step 6.  Set the date as the index"
      ]
    },
    {
      "cell_type": "code",
      "metadata": {
        "id": "0w3vVnNTVXJp",
        "colab": {
          "base_uri": "https://localhost:8080/"
        },
        "outputId": "77e19ca1-25ac-4b22-99fa-7c9848703db3"
      },
      "source": [
        "apple.set_index('Date', inplace=True)\n",
        "print(apple.head())"
      ],
      "execution_count": 23,
      "outputs": [
        {
          "output_type": "stream",
          "name": "stdout",
          "text": [
            "             Open   High    Low  Close    Volume  Adj Close\n",
            "Date                                                       \n",
            "2014-07-08  96.27  96.80  93.92  95.35  65130000      95.35\n",
            "2014-07-07  94.14  95.99  94.10  95.97  56305400      95.97\n",
            "2014-07-03  93.67  94.10  93.20  94.03  22891800      94.03\n",
            "2014-07-02  93.87  94.06  93.09  93.48  28420900      93.48\n",
            "2014-07-01  93.52  94.07  93.13  93.52  38170200      93.52\n"
          ]
        }
      ]
    },
    {
      "cell_type": "markdown",
      "metadata": {
        "id": "gTAynxAuVXJq"
      },
      "source": [
        "### Step 7.  Is there any duplicate dates?"
      ]
    },
    {
      "cell_type": "code",
      "metadata": {
        "id": "X7CMs_b0VXJs",
        "colab": {
          "base_uri": "https://localhost:8080/"
        },
        "outputId": "13332160-abc1-4f42-cd81-1e9be67d4b00"
      },
      "source": [
        "print(apple.index.is_unique)"
      ],
      "execution_count": 24,
      "outputs": [
        {
          "output_type": "stream",
          "name": "stdout",
          "text": [
            "True\n"
          ]
        }
      ]
    },
    {
      "cell_type": "markdown",
      "metadata": {
        "id": "hwzw_ul_VXJt"
      },
      "source": [
        "### Step 8.  Ops...it seems the index is from the most recent date. Make the first entry the oldest date."
      ]
    },
    {
      "cell_type": "code",
      "metadata": {
        "id": "4-JjpkhjVXJv",
        "colab": {
          "base_uri": "https://localhost:8080/"
        },
        "outputId": "ec5616d9-76be-4785-b9b5-6b7d198a3931"
      },
      "source": [
        "apple.sort_index(inplace=True)\n",
        "print(apple.head())"
      ],
      "execution_count": 25,
      "outputs": [
        {
          "output_type": "stream",
          "name": "stdout",
          "text": [
            "             Open   High    Low  Close     Volume  Adj Close\n",
            "Date                                                        \n",
            "1980-12-12  28.75  28.87  28.75  28.75  117258400       0.45\n",
            "1980-12-15  27.38  27.38  27.25  27.25   43971200       0.42\n",
            "1980-12-16  25.37  25.37  25.25  25.25   26432000       0.39\n",
            "1980-12-17  25.87  26.00  25.87  25.87   21610400       0.40\n",
            "1980-12-18  26.63  26.75  26.63  26.63   18362400       0.41\n"
          ]
        }
      ]
    },
    {
      "cell_type": "markdown",
      "metadata": {
        "id": "eRY2W2hfVXJv"
      },
      "source": [
        "### Step 9. Get the last business day of each month"
      ]
    },
    {
      "cell_type": "code",
      "metadata": {
        "id": "APU643vIVXJx",
        "colab": {
          "base_uri": "https://localhost:8080/"
        },
        "outputId": "faa8a62e-24f8-49ba-f099-37db637b4154"
      },
      "source": [
        "#년, 월 칼럼을 생성함\n",
        "apple['Year'] = apple.index.year\n",
        "apple['Month'] = apple.index.month\n",
        "\n",
        "#년, 월별로 그룹화해서 가장 최댓값(위에서 날짜를 오름차순으로 정렬했음)을 가지는 인덱스를 찾음\n",
        "last_day_index = apple.groupby(['Year', 'Month']).apply(lambda x: x.index.max())\n",
        "\n",
        "#해당되는 행들을 추출함\n",
        "last_day = apple.loc[last_day_index]\n",
        "\n",
        "#임시로 만들었던 년, 월 칼럼을 제거함\n",
        "last_day = last_day.drop(columns=['Year', 'Month'])\n",
        "\n",
        "print(last_day.head())\n",
        "\n",
        "\n"
      ],
      "execution_count": 26,
      "outputs": [
        {
          "output_type": "stream",
          "name": "stdout",
          "text": [
            "             Open   High    Low  Close    Volume  Adj Close\n",
            "Date                                                       \n",
            "1980-12-31  34.25  34.25  34.13  34.13   8937600       0.53\n",
            "1981-01-30  28.50  28.50  28.25  28.25  11547200       0.44\n",
            "1981-02-27  26.50  26.75  26.50  26.50   3690400       0.41\n",
            "1981-03-31  24.75  24.75  24.50  24.50   3998400       0.38\n",
            "1981-04-30  28.38  28.62  28.38  28.38   3152800       0.44\n"
          ]
        },
        {
          "output_type": "stream",
          "name": "stderr",
          "text": [
            "/tmp/ipython-input-2546044093.py:6: DeprecationWarning: DataFrameGroupBy.apply operated on the grouping columns. This behavior is deprecated, and in a future version of pandas the grouping columns will be excluded from the operation. Either pass `include_groups=False` to exclude the groupings or explicitly select the grouping columns after groupby to silence this warning.\n",
            "  last_day_index = apple.groupby(['Year', 'Month']).apply(lambda x: x.index.max())\n"
          ]
        }
      ]
    },
    {
      "cell_type": "code",
      "source": [
        "apple_last_bd = apple.resample('BM').last()\n",
        "print(apple_last_bd)"
      ],
      "metadata": {
        "colab": {
          "base_uri": "https://localhost:8080/"
        },
        "id": "bHIq9nkLfhkA",
        "outputId": "ba89a16c-edc5-4f78-dc18-174c9e85038c"
      },
      "execution_count": 27,
      "outputs": [
        {
          "output_type": "stream",
          "name": "stdout",
          "text": [
            "              Open    High     Low   Close     Volume  Adj Close  Year  Month\n",
            "Date                                                                         \n",
            "1980-12-31   34.25   34.25   34.13   34.13    8937600       0.53  1980     12\n",
            "1981-01-30   28.50   28.50   28.25   28.25   11547200       0.44  1981      1\n",
            "1981-02-27   26.50   26.75   26.50   26.50    3690400       0.41  1981      2\n",
            "1981-03-31   24.75   24.75   24.50   24.50    3998400       0.38  1981      3\n",
            "1981-04-30   28.38   28.62   28.38   28.38    3152800       0.44  1981      4\n",
            "...            ...     ...     ...     ...        ...        ...   ...    ...\n",
            "2014-03-31  539.23  540.81  535.93  536.74   42167300      76.25  2014      3\n",
            "2014-04-30  592.64  599.43  589.80  590.09  114160200      83.83  2014      4\n",
            "2014-05-30  637.98  644.17  628.90  633.00  141005200      90.43  2014      5\n",
            "2014-06-30   92.10   93.73   92.09   92.93   49482300      92.93  2014      6\n",
            "2014-07-31   96.27   96.80   93.92   95.35   65130000      95.35  2014      7\n",
            "\n",
            "[404 rows x 8 columns]\n"
          ]
        },
        {
          "output_type": "stream",
          "name": "stderr",
          "text": [
            "/tmp/ipython-input-3005681802.py:1: FutureWarning: 'BM' is deprecated and will be removed in a future version, please use 'BME' instead.\n",
            "  apple_last_bd = apple.resample('BM').last()\n"
          ]
        }
      ]
    },
    {
      "cell_type": "markdown",
      "metadata": {
        "id": "a9O6hmadVXJy"
      },
      "source": [
        "### Step 10.  What is the difference in days between the first day and the oldest"
      ]
    },
    {
      "cell_type": "code",
      "metadata": {
        "id": "HMGS16w9VXJy",
        "colab": {
          "base_uri": "https://localhost:8080/"
        },
        "outputId": "4d8cc862-acdf-4eaf-f40b-84aac2eef9f4"
      },
      "source": [
        "diff = apple.index.max() - apple.index.min()\n",
        "print(diff)"
      ],
      "execution_count": 28,
      "outputs": [
        {
          "output_type": "stream",
          "name": "stdout",
          "text": [
            "12261 days 00:00:00\n"
          ]
        }
      ]
    },
    {
      "cell_type": "markdown",
      "metadata": {
        "id": "Ey0zVGV5VXJz"
      },
      "source": [
        "### Step 11.  How many months in the data we have?"
      ]
    },
    {
      "cell_type": "code",
      "metadata": {
        "id": "Pxkdp6j-VXJz",
        "colab": {
          "base_uri": "https://localhost:8080/"
        },
        "outputId": "09f7fc30-510d-45bf-ee37-49bf872fb1bc"
      },
      "source": [
        "#'M'을 이용해서 월 마지막 날만 뽑아서 수를 셈\n",
        "n_months = apple.index.to_period('M').nunique()\n",
        "print(n_months)"
      ],
      "execution_count": 29,
      "outputs": [
        {
          "output_type": "stream",
          "name": "stdout",
          "text": [
            "404\n"
          ]
        }
      ]
    },
    {
      "cell_type": "markdown",
      "metadata": {
        "id": "zXIBNkMFVXJ0"
      },
      "source": [
        "### Step 12. Plot the 'Adj Close' value. Set the size of the figure to 13.5 x 9 inches"
      ]
    },
    {
      "cell_type": "code",
      "metadata": {
        "id": "bvsp15_IVXJ1",
        "colab": {
          "base_uri": "https://localhost:8080/",
          "height": 446
        },
        "outputId": "0b5d6e08-d46f-4250-dbad-3215d32be7fb"
      },
      "source": [
        "import matplotlib.pyplot as plt\n",
        "\n",
        "# figure의 크기 설정\n",
        "plt.figure(figsize=(13.5, 9))\n",
        "\n",
        "# 날짜가 x축 'Adj Close'가 y축이 되는 그래프를 그림\n",
        "apple['Adj Close'].plot()\n",
        "\n",
        "plt.xlabel(\"Date\")\n",
        "plt.ylabel(\"Adj Close\")\n",
        "plt.show()"
      ],
      "execution_count": 30,
      "outputs": [
        {
          "output_type": "display_data",
          "data": {
            "text/plain": [
              "<Figure size 1350x900 with 1 Axes>"
            ],
            "image/png": "[encoded data removed]"
          },
          "metadata": {}
        }
      ]
    }
  ]
}