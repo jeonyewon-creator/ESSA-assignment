{
  "nbformat": 4,
  "nbformat_minor": 0,
  "metadata": {
    "colab": {
      "provenance": []
    },
    "kernelspec": {
      "name": "python3",
      "display_name": "Python 3"
    },
    "language_info": {
      "name": "python"
    }
  },
  "cells": [
    {
      "cell_type": "code",
      "metadata": {
        "id": "4Zqc4O_BfWqZ",
        "colab": {
          "base_uri": "https://localhost:8080/"
        },
        "outputId": "72890acc-43a3-4015-afcf-77caaadece13"
      },
      "source": [
        "# 모듈 및 데이터 로드\n",
        "from sklearn.datasets import load_breast_cancer\n",
        "from sklearn.linear_model import LogisticRegression\n",
        "from sklearn.metrics import confusion_matrix, accuracy_score, precision_score, recall_score, f1_score, roc_curve, roc_auc_score\n",
        "from sklearn.preprocessing import Binarizer\n",
        "import matplotlib.pyplot as plt\n",
        "import numpy as np\n",
        "import pandas as pd\n",
        "\n",
        "data = load_breast_cancer()\n",
        "\n",
        "# x, y 데이터 생성\n",
        "X = data.data\n",
        "\n",
        "# 악성을 1, 양성을 0으로\n",
        "y = 1 - data.target\n",
        "\n",
        "# 특징으로 사용할 데이터를 평균으로 구분하는 10개 열로 축소\n",
        "X = X[:, :10]\n",
        "\n",
        "# 로지스틱 회귀 모델 생성\n",
        "model_lor = LogisticRegression(solver = 'lbfgs')\n",
        "model_lor.fit(X,y)\n",
        "y_pred = model_lor.predict(X)"
      ],
      "execution_count": 3,
      "outputs": [
        {
          "output_type": "stream",
          "name": "stderr",
          "text": [
            "/usr/local/lib/python3.12/dist-packages/sklearn/linear_model/_logistic.py:465: ConvergenceWarning: lbfgs failed to converge (status=1):\n",
            "STOP: TOTAL NO. OF ITERATIONS REACHED LIMIT.\n",
            "\n",
            "Increase the number of iterations (max_iter) or scale the data as shown in:\n",
            "    https://scikit-learn.org/stable/modules/preprocessing.html\n",
            "Please also refer to the documentation for alternative solver options:\n",
            "    https://scikit-learn.org/stable/modules/linear_model.html#logistic-regression\n",
            "  n_iter_i = _check_optimize_result(\n"
          ]
        }
      ]
    },
    {
      "cell_type": "markdown",
      "metadata": {
        "id": "faoAfc1ZgAcq"
      },
      "source": [
        "**오차 행렬(혼동 행렬) 생성**"
      ]
    },
    {
      "cell_type": "code",
      "metadata": {
        "id": "JdML8YM0gBtu",
        "colab": {
          "base_uri": "https://localhost:8080/"
        },
        "outputId": "1419c12f-af06-418d-f301-04cb55505d6f"
      },
      "source": [
        "# 종속 변수와 예측 결과로 혼동 행렬 생성\n",
        "conf_matrix = confusion_matrix(y, y_pred)\n",
        "print(conf_matrix)"
      ],
      "execution_count": 4,
      "outputs": [
        {
          "output_type": "stream",
          "name": "stdout",
          "text": [
            "[[337  20]\n",
            " [ 30 182]]\n"
          ]
        }
      ]
    },
    {
      "cell_type": "markdown",
      "metadata": {
        "id": "xbcK3rT-gFRk"
      },
      "source": [
        "**정확도의 개념을 설명하고, 정확도를 구해 해당 값을 통해 알 수 있는 점을 쓰시오.**"
      ]
    },
    {
      "cell_type": "markdown",
      "source": [
        "* 정확도 = 예측 결과가 동일한 데이터 건수 / 전체 예측 데이터 건수\n",
        "* (TN + TP) / (TN + FP + FN + TP)\n",
        "* 전체 데이터 중에서 모델이 양성을 양성이라고 제대로 예측하고 음성이 음성이라고 제대로 예측한 비율이 약 0.91임을 의미"
      ],
      "metadata": {
        "id": "-1Z7wSiza35c"
      }
    },
    {
      "cell_type": "code",
      "metadata": {
        "id": "NLiXFuYvgI1e",
        "colab": {
          "base_uri": "https://localhost:8080/"
        },
        "outputId": "15f2208a-2669-477a-8af1-5f7c076cc60e"
      },
      "source": [
        "accuracy = accuracy_score(y, y_pred)\n",
        "print(accuracy)"
      ],
      "execution_count": 6,
      "outputs": [
        {
          "output_type": "stream",
          "name": "stdout",
          "text": [
            "0.9121265377855887\n"
          ]
        }
      ]
    },
    {
      "cell_type": "markdown",
      "metadata": {
        "id": "UYnVZS9igNNf"
      },
      "source": [
        "**정밀도의 개념을 설명하고, 정확도를 구해 해당 값을 통해 알 수 있는 점을 쓰시오.**"
      ]
    },
    {
      "cell_type": "markdown",
      "source": [
        "* 정밀도: 예측을 양성으로 한 대상 중에 예측과 실제 값이 양성으로 일치한 데이터의 비율\n",
        "* TP / (FP+TP)\n",
        "* 모델이 양성으로 판단한 데이터 중에 실제로 양성인 데이터의 비율이 약 0.90라는 것을 의미"
      ],
      "metadata": {
        "id": "RnBJfwMObw1o"
      }
    },
    {
      "cell_type": "code",
      "metadata": {
        "id": "j108NueLgMKF",
        "colab": {
          "base_uri": "https://localhost:8080/"
        },
        "outputId": "29213bfa-8385-468d-bf58-7e0e3f738be5"
      },
      "source": [
        "precision = precision_score(y, y_pred)\n",
        "print(precision)"
      ],
      "execution_count": 7,
      "outputs": [
        {
          "output_type": "stream",
          "name": "stdout",
          "text": [
            "0.900990099009901\n"
          ]
        }
      ]
    },
    {
      "cell_type": "markdown",
      "metadata": {
        "id": "2-MBquNJZOM4"
      },
      "source": [
        "**재현율의 개념을 설명하고, 정확도를 구해 해당 값을 통해 알 수 있는 점을 쓰시오.**"
      ]
    },
    {
      "cell_type": "markdown",
      "source": [
        "* 재현율: 실제 값이 양성인 대상 중에 예측과 실제 값이 양성으로 일치한 비율\n",
        "* TP /(FN+TP)\n",
        "* 실제 값이 양성인 데이터들 중에 모델은 약 0.86 정도의 데이터를 양성으로 예측한다는 것을 의미"
      ],
      "metadata": {
        "id": "3hsmBBficHqG"
      }
    },
    {
      "cell_type": "code",
      "metadata": {
        "id": "uje4ivPvZPwv",
        "colab": {
          "base_uri": "https://localhost:8080/"
        },
        "outputId": "677e4928-6d63-4016-df3f-482a32796bcb"
      },
      "source": [
        "recall = recall_score(y, y_pred)\n",
        "print(recall)"
      ],
      "execution_count": 8,
      "outputs": [
        {
          "output_type": "stream",
          "name": "stdout",
          "text": [
            "0.8584905660377359\n"
          ]
        }
      ]
    },
    {
      "cell_type": "markdown",
      "metadata": {
        "id": "Cw1p3yjagUCH"
      },
      "source": [
        "**F1 score의 개념을 설명하고, 정확도를 구해 해당 값을 통해 알 수 있는 점을 쓰시오.**"
      ]
    },
    {
      "cell_type": "markdown",
      "source": [
        "* F1 스코어: 정밀도와 재현도를 결합한 지표\n",
        "* 2*{(precision * recall) / (precision + recall)}\n",
        "* F1 스코어가 약 0.88로 1과 가까운 값이 나왔으므로 모델이 정밀도와 재현율 모두 높은 수준의 성능 균형을 이루고 있다고 볼 수 있다."
      ],
      "metadata": {
        "id": "ch2vC7l2f8XX"
      }
    },
    {
      "cell_type": "code",
      "metadata": {
        "id": "hPdtYdoDgYgV",
        "colab": {
          "base_uri": "https://localhost:8080/"
        },
        "outputId": "fe859b92-2d5a-4a66-85cd-57cae0c21569"
      },
      "source": [
        "f1 = f1_score(y, y_pred)\n",
        "print(f1)"
      ],
      "execution_count": 9,
      "outputs": [
        {
          "output_type": "stream",
          "name": "stdout",
          "text": [
            "0.8792270531400966\n"
          ]
        }
      ]
    },
    {
      "cell_type": "markdown",
      "metadata": {
        "id": "fzwIFsKOW5a1"
      },
      "source": [
        "**예측 확률(pred_proba) : 0으로 예측할 확률이 0.1보다 크면 y_pred2 에 넣는다 가정.**"
      ]
    },
    {
      "cell_type": "code",
      "metadata": {
        "id": "nw9dxOiPW40l"
      },
      "source": [
        "from sklearn.preprocessing import Binarizer\n"
      ],
      "execution_count": 10,
      "outputs": []
    },
    {
      "cell_type": "code",
      "metadata": {
        "id": "Y-WrHrICYFB1",
        "colab": {
          "base_uri": "https://localhost:8080/"
        },
        "outputId": "d4b410c1-5ee8-436d-af19-b7f6b7295236"
      },
      "source": [
        "# y과 y_pred2의 혼동행렬, 정확도, 정밀도, 재현율, f1 score 구하기\n",
        "y_pred_proba = model_lor.predict_proba(X)\n",
        "pred_proba_1 = y_pred_proba[:, 1].reshape(-1, 1)\n",
        "binarizer = Binarizer(threshold=0.9)\n",
        "y_pred2 = binarizer.fit_transform(pred_proba_1)\n",
        "\n",
        "#혼동행렬\n",
        "conf_matrix2 = confusion_matrix(y, y_pred2)\n",
        "print(conf_matrix2)\n",
        "\n",
        "#정확도\n",
        "accuracy2 = accuracy_score(y, y_pred2)\n",
        "print(accuracy2)\n",
        "\n",
        "#정밀도\n",
        "precision2 = precision_score(y, y_pred2)\n",
        "print(precision2)\n",
        "\n",
        "#재현율\n",
        "recall2 = recall_score(y, y_pred2)\n",
        "print(recall2)\n",
        "\n",
        "#f1 score\n",
        "f1_2 = f1_score(y, y_pred2)\n",
        "print(f1_2)"
      ],
      "execution_count": 11,
      "outputs": [
        {
          "output_type": "stream",
          "name": "stdout",
          "text": [
            "[[356   1]\n",
            " [ 73 139]]\n",
            "0.8699472759226714\n",
            "0.9928571428571429\n",
            "0.6556603773584906\n",
            "0.7897727272727273\n"
          ]
        }
      ]
    },
    {
      "cell_type": "markdown",
      "metadata": {
        "id": "itgf_OjsjU-R"
      },
      "source": [
        "**ROC 곡선 시각화**"
      ]
    },
    {
      "cell_type": "code",
      "metadata": {
        "id": "DW75xBokjXKy"
      },
      "source": [
        "from sklearn.metrics import roc_curve\n",
        "fprs, tprs, thresholds = roc_curve(y, y_pred_proba[:, 1])"
      ],
      "execution_count": 14,
      "outputs": []
    },
    {
      "cell_type": "code",
      "metadata": {
        "id": "CSJ69SGJVh7m",
        "colab": {
          "base_uri": "https://localhost:8080/",
          "height": 720
        },
        "outputId": "c56a438a-af2b-4953-dd6c-b2712909c68a"
      },
      "source": [
        "import matplotlib.pyplot as plt\n",
        "plt.figure(figsize=(10, 10))\n",
        "plt.plot(fprs, tprs, label='ROC Curve')\n",
        "plt.xlabel('FPR')\n",
        "plt.ylabel('TPR / Recall')\n",
        "plt.title('ROC Curve')\n",
        "plt.legend()\n",
        "plt.grid()\n",
        "plt.show()"
      ],
      "execution_count": 17,
      "outputs": [
        {
          "output_type": "display_data",
          "data": {
            "text/plain": [
              "<Figure size 1000x1000 with 1 Axes>"
            ],
            "image/png": "[encoded data removed]"
          },
          "metadata": {}
        }
      ]
    },
    {
      "cell_type": "markdown",
      "metadata": {
        "id": "fL4as0YsWYD7"
      },
      "source": [
        "**ROC AUC 값을 구하고 해당 값을 통해 알 수 있는 점을 쓰시오.**"
      ]
    },
    {
      "cell_type": "markdown",
      "source": [
        "약 0.97로 1에 가까우므로 모델이 양성과 음성 클래스를 잘 구분한다고 볼 수 있다."
      ],
      "metadata": {
        "id": "Lf9ZPuNshi19"
      }
    },
    {
      "cell_type": "code",
      "metadata": {
        "id": "-SEElVZTWaVp",
        "colab": {
          "base_uri": "https://localhost:8080/"
        },
        "outputId": "4c9d61c3-1004-4013-8cac-3b3e64eb0be2"
      },
      "source": [
        "roc_auc = roc_auc_score(y, y_pred_proba[:, 1])\n",
        "print(roc_auc)"
      ],
      "execution_count": 12,
      "outputs": [
        {
          "output_type": "stream",
          "name": "stdout",
          "text": [
            "0.974076423022039\n"
          ]
        }
      ]
    }
  ]
}