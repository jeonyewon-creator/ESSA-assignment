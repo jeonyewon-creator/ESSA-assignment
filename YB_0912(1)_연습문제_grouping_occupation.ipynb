{
  "nbformat": 4,
  "nbformat_minor": 0,
  "metadata": {
    "kernelspec": {
      "display_name": "Python 2",
      "language": "python",
      "name": "python2"
    },
    "language_info": {
      "codemirror_mode": {
        "name": "ipython",
        "version": 2
      },
      "file_extension": ".py",
      "mimetype": "text/x-python",
      "name": "python",
      "nbconvert_exporter": "python",
      "pygments_lexer": "ipython2",
      "version": "2.7.11"
    },
    "colab": {
      "provenance": []
    }
  },
  "cells": [
    {
      "cell_type": "markdown",
      "metadata": {
        "id": "RYQSB73_akvl"
      },
      "source": [
        "# Occupation"
      ]
    },
    {
      "cell_type": "markdown",
      "metadata": {
        "id": "Ez-pV6Jaakvs"
      },
      "source": [
        "### Introduction:\n",
        "\n",
        "Special thanks to: https://github.com/justmarkham for sharing the dataset and materials.\n",
        "\n",
        "### Step 1. Import the necessary libraries"
      ]
    },
    {
      "cell_type": "code",
      "metadata": {
        "id": "s-DFQmeNakvu"
      },
      "source": [
        "import pandas as pd"
      ],
      "execution_count": null,
      "outputs": []
    },
    {
      "cell_type": "markdown",
      "metadata": {
        "id": "ShhIzySnakvw"
      },
      "source": [
        "### Step 2. Import the dataset from this [address](https://raw.githubusercontent.com/justmarkham/DAT8/master/data/u.user)."
      ]
    },
    {
      "cell_type": "code",
      "source": [
        "url=\"https://raw.githubusercontent.com/justmarkham/DAT8/master/data/u.user\""
      ],
      "metadata": {
        "id": "IVpwXn1XaWMX"
      },
      "execution_count": null,
      "outputs": []
    },
    {
      "cell_type": "markdown",
      "metadata": {
        "id": "03hsscjRakvx"
      },
      "source": [
        "### Step 3. Assign it to a variable called users."
      ]
    },
    {
      "cell_type": "code",
      "metadata": {
        "id": "5RdM7Sj-akvy"
      },
      "source": [
        "users = pd.read_csv(address, sep=\"|\", index_col=\"user_id\")\n",
        "# 파일이 |로 구분되어 있기 때문에 sep=\"|\"를 지정해야 함"
      ],
      "execution_count": null,
      "outputs": []
    },
    {
      "cell_type": "markdown",
      "metadata": {
        "id": "p4rTx11Sakvz"
      },
      "source": [
        "### Step 4. Discover what is the mean age per occupation"
      ]
    },
    {
      "cell_type": "code",
      "metadata": {
        "id": "PNUZKNafakv1",
        "colab": {
          "base_uri": "https://localhost:8080/"
        },
        "outputId": "e8382863-ed4e-47c9-ff03-27535e5e6195"
      },
      "source": [
        "mean_age = users.groupby(\"occupation\")[\"age\"].mean()\n",
        "print(mean_age)"
      ],
      "execution_count": null,
      "outputs": [
        {
          "output_type": "stream",
          "name": "stdout",
          "text": [
            "occupation\n",
            "administrator    38.746835\n",
            "artist           31.392857\n",
            "doctor           43.571429\n",
            "educator         42.010526\n",
            "engineer         36.388060\n",
            "entertainment    29.222222\n",
            "executive        38.718750\n",
            "healthcare       41.562500\n",
            "homemaker        32.571429\n",
            "lawyer           36.750000\n",
            "librarian        40.000000\n",
            "marketing        37.615385\n",
            "none             26.555556\n",
            "other            34.523810\n",
            "programmer       33.121212\n",
            "retired          63.071429\n",
            "salesman         35.666667\n",
            "scientist        35.548387\n",
            "student          22.081633\n",
            "technician       33.148148\n",
            "writer           36.311111\n",
            "Name: age, dtype: float64\n"
          ]
        }
      ]
    },
    {
      "cell_type": "markdown",
      "metadata": {
        "id": "b9Va6b3Qakv3"
      },
      "source": [
        "### Step 5. Discover the Male ratio per occupation and sort it from the most to the least"
      ]
    },
    {
      "cell_type": "code",
      "metadata": {
        "id": "xb3LjNPRakv5",
        "colab": {
          "base_uri": "https://localhost:8080/"
        },
        "outputId": "e321ce09-e5fe-4940-b9f2-8769f3ed5577"
      },
      "source": [
        "male_ratio = users.groupby(\"occupation\")[\"gender\"].value_counts(normalize=True).unstack()[\"M\"]\n",
        "male_sort = male_ratio.sort_values(ascending=False)\n",
        "print(male_sort)"
      ],
      "execution_count": null,
      "outputs": [
        {
          "output_type": "stream",
          "name": "stdout",
          "text": [
            "occupation\n",
            "doctor           1.000000\n",
            "engineer         0.970149\n",
            "technician       0.962963\n",
            "retired          0.928571\n",
            "programmer       0.909091\n",
            "executive        0.906250\n",
            "scientist        0.903226\n",
            "entertainment    0.888889\n",
            "lawyer           0.833333\n",
            "salesman         0.750000\n",
            "educator         0.726316\n",
            "student          0.693878\n",
            "other            0.657143\n",
            "marketing        0.615385\n",
            "writer           0.577778\n",
            "none             0.555556\n",
            "administrator    0.544304\n",
            "artist           0.535714\n",
            "librarian        0.431373\n",
            "healthcare       0.312500\n",
            "homemaker        0.142857\n",
            "Name: M, dtype: float64\n"
          ]
        }
      ]
    },
    {
      "cell_type": "markdown",
      "metadata": {
        "id": "V8iyNzOiakv6"
      },
      "source": [
        "### Step 6. For each occupation, calculate the minimum and maximum ages"
      ]
    },
    {
      "cell_type": "code",
      "metadata": {
        "id": "_XxSd_XWakv7",
        "colab": {
          "base_uri": "https://localhost:8080/"
        },
        "outputId": "f088f395-a6c3-4c77-9ed3-0d5cf697e4ac"
      },
      "source": [
        "min_age = users.groupby(\"occupation\")[\"age\"].agg([\"min\"])\n",
        "max_age = users.groupby(\"occupation\")[\"age\"].agg([\"max\"])\n",
        "print(min_age)\n",
        "print(max_age)"
      ],
      "execution_count": null,
      "outputs": [
        {
          "output_type": "stream",
          "name": "stdout",
          "text": [
            "               min\n",
            "occupation        \n",
            "administrator   21\n",
            "artist          19\n",
            "doctor          28\n",
            "educator        23\n",
            "engineer        22\n",
            "entertainment   15\n",
            "executive       22\n",
            "healthcare      22\n",
            "homemaker       20\n",
            "lawyer          21\n",
            "librarian       23\n",
            "marketing       24\n",
            "none            11\n",
            "other           13\n",
            "programmer      20\n",
            "retired         51\n",
            "salesman        18\n",
            "scientist       23\n",
            "student          7\n",
            "technician      21\n",
            "writer          18\n",
            "               max\n",
            "occupation        \n",
            "administrator   70\n",
            "artist          48\n",
            "doctor          64\n",
            "educator        63\n",
            "engineer        70\n",
            "entertainment   50\n",
            "executive       69\n",
            "healthcare      62\n",
            "homemaker       50\n",
            "lawyer          53\n",
            "librarian       69\n",
            "marketing       55\n",
            "none            55\n",
            "other           64\n",
            "programmer      63\n",
            "retired         73\n",
            "salesman        66\n",
            "scientist       55\n",
            "student         42\n",
            "technician      55\n",
            "writer          60\n"
          ]
        }
      ]
    },
    {
      "cell_type": "markdown",
      "metadata": {
        "id": "IITVNpN_akv8"
      },
      "source": [
        "### Step 7. For each combination of occupation and gender, calculate the mean age"
      ]
    },
    {
      "cell_type": "code",
      "metadata": {
        "id": "xDKQPz57akv9",
        "colab": {
          "base_uri": "https://localhost:8080/"
        },
        "outputId": "a4e7402c-c098-4e25-e4cf-bd3ac9f1b7b0"
      },
      "source": [
        "mean_age_or = users.groupby([\"occupation\", \"gender\"])[\"age\"].mean()\n",
        "print(mean_age_or)"
      ],
      "execution_count": null,
      "outputs": [
        {
          "output_type": "stream",
          "name": "stdout",
          "text": [
            "occupation     gender\n",
            "administrator  F         40.638889\n",
            "               M         37.162791\n",
            "artist         F         30.307692\n",
            "               M         32.333333\n",
            "doctor         M         43.571429\n",
            "educator       F         39.115385\n",
            "               M         43.101449\n",
            "engineer       F         29.500000\n",
            "               M         36.600000\n",
            "entertainment  F         31.000000\n",
            "               M         29.000000\n",
            "executive      F         44.000000\n",
            "               M         38.172414\n",
            "healthcare     F         39.818182\n",
            "               M         45.400000\n",
            "homemaker      F         34.166667\n",
            "               M         23.000000\n",
            "lawyer         F         39.500000\n",
            "               M         36.200000\n",
            "librarian      F         40.000000\n",
            "               M         40.000000\n",
            "marketing      F         37.200000\n",
            "               M         37.875000\n",
            "none           F         36.500000\n",
            "               M         18.600000\n",
            "other          F         35.472222\n",
            "               M         34.028986\n",
            "programmer     F         32.166667\n",
            "               M         33.216667\n",
            "retired        F         70.000000\n",
            "               M         62.538462\n",
            "salesman       F         27.000000\n",
            "               M         38.555556\n",
            "scientist      F         28.333333\n",
            "               M         36.321429\n",
            "student        F         20.750000\n",
            "               M         22.669118\n",
            "technician     F         38.000000\n",
            "               M         32.961538\n",
            "writer         F         37.631579\n",
            "               M         35.346154\n",
            "Name: age, dtype: float64\n"
          ]
        }
      ]
    },
    {
      "cell_type": "markdown",
      "metadata": {
        "id": "6cfimN8Eakv-"
      },
      "source": [
        "### Step 8.  For each occupation present the percentage of women and men"
      ]
    },
    {
      "cell_type": "code",
      "metadata": {
        "id": "jCOC0CHGakv_",
        "colab": {
          "base_uri": "https://localhost:8080/"
        },
        "outputId": "d8d0b4f1-60e8-4885-deaf-176f51e92a0d"
      },
      "source": [
        "gender_ratio = users.groupby(\"occupation\")[\"gender\"].value_counts(normalize=True).mul(100)\n",
        "print(gender_ratio)\n",
        "# .mul(100): 0.75 → 75%처럼 백분율로 변환"
      ],
      "execution_count": null,
      "outputs": [
        {
          "output_type": "stream",
          "name": "stdout",
          "text": [
            "occupation     gender\n",
            "administrator  M          54.430380\n",
            "               F          45.569620\n",
            "artist         M          53.571429\n",
            "               F          46.428571\n",
            "doctor         M         100.000000\n",
            "educator       M          72.631579\n",
            "               F          27.368421\n",
            "engineer       M          97.014925\n",
            "               F           2.985075\n",
            "entertainment  M          88.888889\n",
            "               F          11.111111\n",
            "executive      M          90.625000\n",
            "               F           9.375000\n",
            "healthcare     F          68.750000\n",
            "               M          31.250000\n",
            "homemaker      F          85.714286\n",
            "               M          14.285714\n",
            "lawyer         M          83.333333\n",
            "               F          16.666667\n",
            "librarian      F          56.862745\n",
            "               M          43.137255\n",
            "marketing      M          61.538462\n",
            "               F          38.461538\n",
            "none           M          55.555556\n",
            "               F          44.444444\n",
            "other          M          65.714286\n",
            "               F          34.285714\n",
            "programmer     M          90.909091\n",
            "               F           9.090909\n",
            "retired        M          92.857143\n",
            "               F           7.142857\n",
            "salesman       M          75.000000\n",
            "               F          25.000000\n",
            "scientist      M          90.322581\n",
            "               F           9.677419\n",
            "student        M          69.387755\n",
            "               F          30.612245\n",
            "technician     M          96.296296\n",
            "               F           3.703704\n",
            "writer         M          57.777778\n",
            "               F          42.222222\n",
            "Name: proportion, dtype: float64\n"
          ]
        }
      ]
    }
  ]
}