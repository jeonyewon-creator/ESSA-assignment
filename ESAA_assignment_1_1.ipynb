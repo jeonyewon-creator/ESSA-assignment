{
  "nbformat": 4,
  "nbformat_minor": 0,
  "metadata": {
    "colab": {
      "provenance": []
    },
    "kernelspec": {
      "name": "python3",
      "display_name": "Python 3"
    },
    "language_info": {
      "name": "python"
    }
  },
  "cells": [
    {
      "cell_type": "code",
      "execution_count": null,
      "metadata": {
        "colab": {
          "base_uri": "https://localhost:8080/"
        },
        "id": "49R8Sxx__Hqo",
        "outputId": "192a0ee6-4d67-4e76-9d8e-bdfb36db2eb0"
      },
      "outputs": [
        {
          "output_type": "stream",
          "name": "stdout",
          "text": [
            "Drive already mounted at /content/drive; to attempt to forcibly remount, call drive.mount(\"/content/drive\", force_remount=True).\n"
          ]
        }
      ],
      "source": [
        "from google.colab import drive\n",
        "drive.mount('/content/drive')"
      ]
    },
    {
      "cell_type": "markdown",
      "source": [
        "#1-1. 머신러닝의 개념\n",
        "1. 머신러닝\n",
        ": 애플리케이션을 수정하지 않고도 데이터를 기반으로 패턴을 학습하고 결과를 예측하는 알고리즘 기법\n",
        "* 머신러닝 알고리즘: 데이터를 기반으로 통계적인 신뢰도를 강화하고 예측 오류를 최소화하기 위한 다양한 수학적 기법을 적용해 데이터 내의 패턴을 스스로 인지하고, 신뢰도 있는 예측 결과 도출\n",
        "# 2. 머신러닝의 분류\n",
        "* 지도학습\n",
        "  + 분류\n",
        "  + 회귀\n",
        "  + 추천 시스템\n",
        "  + 시각/음성 감지/인지\n",
        "  + 텍스트 분석, NLP\n",
        "* 비지도학습\n",
        "  + 클러스터링\n",
        "  + 차원축소\n",
        "  + 강화학습\n",
        "#3. 머신러닝의 단점\n",
        ": 데이터에 매우 의존적\n",
        "*  좋은 품질의 데이터를 갖추지 못하면 머신러닝의 수행결과도 좋지 않음\n",
        "* 데이터를 이해하고 효율적으로 가공, 처리, 추출해 최적의 데이터를 기반으로 알고리즘을 구동할 수 있도록 준비하는 능력 중요\n",
        "#4. 파이썬과 R기반의 머신러닝 비교\n",
        ": 머신러닝 프로그램을 작성할 수 있는 대표적인 오픈 소스 프로그램 언어들\n",
        "* R\n",
        "  + 통계전용 프로그램 언어\n",
        "  + 전통적인 통계 및 마이닝 패키지의 고비용 문제를 개선하기 위해 만듦\n",
        "  + 오랜 기간 동안 많은 R 사용자들이 생성하고 검증해온 다양하고 많은 통계 패키지 보유\n",
        "* 파이썬\n",
        "  + 다양한 영역에서 사용되는 개발 전문 프로그램 언어\n",
        "  + 강점: 직관적인 문법, 객체지향과 함수형 프로그래밍 모두를 포괄하는 유연한 프로드램 아키텍처, 다양한 라이브러리\n",
        "    -  높은 생산성으로 인해 활용도가 매우 높음\n",
        "    -  오픈 소스 계열의 전폭적인 지원을 받고 있으며 많은 라이브러리로 인해 개발 시 높은 생산성 보장\n",
        "    -  인터프리터 언어 특성상 속도는 느리지만, 뛰어난 확장성, 유연성, 호환성으로 다양한 영역에서 사용\n",
        "    - 머신러닝 애플리케이션과 결합한 다양한 애플리케이션 개발 가능\n",
        "    - 다양한 기업 환경으로의 확산 가능\n",
        "  + 딥러닝 프레임워크는 파이썬을 중심으로 발전될 가능성이 큼\n",
        "\n",
        "\n",
        "#1-2 파이썬 머신러닝 생태계를 구성하는 주요 패키지\n",
        "* 머신러닝 패키지: 사이킷런\n",
        "* 행렬/선형대수/통계 패키지\n",
        "  + 넘파이: 행렬과 선형대수를 다룸\n",
        "  + 사이파이:자연과학과 통계를 위함\n",
        "* 데이터 핸들링\n",
        "  + 판다스\n",
        "    - 2차원 데이터 처리에 특화\n",
        "    - 넘파이보다 훨씬 편리하게 데이터 처리를 할 수 있는 많은 기능 제공\n",
        "    - 맷플롯립을 호출해 쥡게 시각화 기능을 지원\n",
        "* 시각화\n",
        "  + 맷플롯립\n",
        "    - 너무 세분화된 API로 익히기 번거로움\n",
        "    - 디자인 부분에서 투박\n",
        "    - 데이터 분석가/과학자가 작성하는 코드가 길어지기 때문에 효율이 떨어지고 불편함이 늘어남\n",
        "  + 시본\n",
        "    - 맷플롯립을 기반으로 하지만, 보완하기 위한 시각화 패키지\n",
        "    - 판다스와의 쉬운 연동\n",
        "    - 더 함축적인 API\n",
        "    - 분석을 위한 다양한 유형의 그래프/차트 제공\n",
        "* 아이파이썬: 대화형 파이썬 툴, 전체 프로그램에서 특정 코드 영역별로 개별 수행을 지원하므로 영역별로 코드 이해가 매우 명확하게 설명 가능\n",
        "  + 주피터 노트북: 대표적 아이파이썬 지원 툴\n",
        "    - 중요 코드 단위로 설명을 적고 코드를 수행해 그 결과를 볼 수 있음\n",
        "    - 직관적으로 어떤 코드가 어떤 역할을 하는지 매우 쉽세 이해할 수 있도록 지원\n",
        "\n",
        "\n"
      ],
      "metadata": {
        "id": "OdbKnA3jOCP0"
      }
    },
    {
      "cell_type": "markdown",
      "source": [
        "# 1-3 넘파이\n",
        ": 파이썬에서 선형대수 기반의 프로그램을 쉽게 만들 수 있도록 지원하는 대표적인 패키지\n",
        "  + 빠른 배열 연산 속도 보장: 루프를 사용하지 않고 대량 데이터의 배열 연산을 가능하게 함\n",
        "  + C/C++ 같은 저수준 언어 기반의 호환 API 제\n",
        "  + 매우 빠른 배열 연산을 보장하지만, 파이썬 언어 자체가 가지는 수행 성능의 제약이 있으므로 수행 성증이 중요한 부분은 C/C++ 기반의 코드로 작성하고, 이를 넘파이에서 호출하는 방식으로 통합함 (ex. 텐서플로)\n",
        "  + 다양한 데이터 핸들링 기능 제공하지만, 편의성과 다양한 API 지원 측면에서는 아쉬움\n",
        "#1. 넘파이 ndarray 개요\n",
        "  + ndarray: 넘파이 기반 데이터 타입, 다차원 배열을 쉽게 생성하고 다양한 연산 수행\n"
      ],
      "metadata": {
        "id": "4zfVAgOQZTux"
      }
    },
    {
      "cell_type": "code",
      "source": [
        "import numpy as np"
      ],
      "metadata": {
        "id": "jkSg1yXsaXsd"
      },
      "execution_count": null,
      "outputs": []
    },
    {
      "cell_type": "markdown",
      "source": [
        "  * array() 함수: 파이썬의 리스트와 같은 다양한 인자를 입력받아서 ndarray로 변환함\n",
        "    + 생성된 ndarray 배열의 shape 변수는 ndarray의 크기(행과 열의 수)를 튜플 형태로 가지고 있으며, 이를 통해 ndarray 배열의 차원까지 알 수 있음\n",
        "\n",
        "  * np.array(): ndarry로 변환을 원하는 객체를 인자로 입력하면 ndarray를 반환함\n",
        "  * ndarray.shape: ndarray의 차원과 크기를 튜플 형태로 나타내줌\n",
        "    + array1 [1,2,3]의 shape은 (3,): 1차원 array, 3개의 데이터\n",
        "    + array2 [[1,2,3],[2,3,4]]의 shape은 (2,3): 2차원 array, 2개의 로우와 3개의 칼럼으로 구성된 2*3=6개의 데이터\n",
        "    + array3 [[1,2,3]]의 shape은 (1,3): 2차원 array, 1개의 로우와 3개의 칼럼으로 구성된 3개의 데이터\n",
        "  "
      ],
      "metadata": {
        "id": "Tj6tNZ9radW2"
      }
    },
    {
      "cell_type": "code",
      "source": [
        "array1 = np.array([1,2,3])\n",
        "print('array1 type:', type(array1))\n",
        "print('array1 array 형태:', array1.shape)\n",
        "array2 = np.array([[1,2,3],\n",
        "                  [2,3,4]])\n",
        "print('array2 type:', type(array2))\n",
        "print('array2 array 형태:', array2.shape)\n",
        "array3 = np.array([[1,2,3]])\n",
        "print('array3 type:', type(array3))\n",
        "print('array3 array 형태:', array3.shape)"
      ],
      "metadata": {
        "colab": {
          "base_uri": "https://localhost:8080/"
        },
        "id": "Z9UdQpmzbHCG",
        "outputId": "6e482513-09e2-44be-be7f-28e70ce512b4"
      },
      "execution_count": null,
      "outputs": [
        {
          "output_type": "stream",
          "name": "stdout",
          "text": [
            "array1 type: <class 'numpy.ndarray'>\n",
            "array1 array 형태: (3,)\n",
            "array2 type: <class 'numpy.ndarray'>\n",
            "array2 array 형태: (2, 3)\n",
            "array3 type: <class 'numpy.ndarray'>\n",
            "array3 array 형태: (1, 3)\n"
          ]
        }
      ]
    },
    {
      "cell_type": "markdown",
      "source": [
        "* ndarray.ndim: 각 array의 차원을 나타내줌\n",
        "  + array()함수의 인자로는 파이썬 리스트 객체([])가 주로 사용됨: 리스트 []는 1차원이고, 리스트 [[]]는 2차원과 같은 형태로 배열의 차원과 크기를 쉽게 표현할 수 있기 때문\n",
        "  + {}속 숫자 0은 첫번째 값, 숫자 1은 두번째 값, 숫자 2는 세번째 값을 의미함"
      ],
      "metadata": {
        "id": "wIDHfP1Cf52G"
      }
    },
    {
      "cell_type": "code",
      "source": [
        "print('array1:{0}차원,array2:{1}차원,array3:{2}차원'.format(array1.ndim, array2.ndim, array3.ndim))"
      ],
      "metadata": {
        "colab": {
          "base_uri": "https://localhost:8080/"
        },
        "id": "CGJEXEURjTsb",
        "outputId": "10effde3-ad54-40a2-bfd9-93c24252a7a9"
      },
      "execution_count": null,
      "outputs": [
        {
          "output_type": "stream",
          "name": "stdout",
          "text": [
            "array1:1차원,array2:2차원,array3:2차원\n"
          ]
        }
      ]
    },
    {
      "cell_type": "markdown",
      "source": [
        "#2. ndarray의 데이터 타입\n",
        "* 숫자 값, 문자열 값, 불 값 등이 모두 가능\n",
        "  + 숫자형: int형(8bit, 16bit, 32bit), unsigned bit형(8bit, 16bit, 32bit),float형(16bit, 32bit, 64bit, 128bit), complex 타입\n",
        "* 그 연산의 특성상 같은 데이터 타입만 가능 (한 개의 ndarray 객체에 int와 float이 함께 있을 수 X)\n",
        "* dtype 속성으로 ndarray내의 데이터 타입 확인 가능\n",
        "  + 리스트형 자료인 list1은 integer숫자인 1,2,3을 값으로 가지고 있음\n",
        "  + 이를 ndarray로 변경한 ndarray내의 데이터값은 모두 int64형임\n"
      ],
      "metadata": {
        "id": "tgCV1k5Jj88t"
      }
    },
    {
      "cell_type": "code",
      "source": [
        "list1=[1,2,3]\n",
        "print(type(list1))\n",
        "array1=np.array(list1)\n",
        "print(type(array1))\n",
        "print(array1,array1.dtype)"
      ],
      "metadata": {
        "colab": {
          "base_uri": "https://localhost:8080/"
        },
        "id": "TNWhbDvJoB7w",
        "outputId": "c69f5687-baa7-4e3e-bc0e-be68e73fdaed"
      },
      "execution_count": null,
      "outputs": [
        {
          "output_type": "stream",
          "name": "stdout",
          "text": [
            "<class 'list'>\n",
            "<class 'numpy.ndarray'>\n",
            "[1 2 3] int64\n"
          ]
        }
      ]
    },
    {
      "cell_type": "markdown",
      "source": [
        "* 다른 데이터 유형이 섞여 있는 리스트를 ndarray로 변경하면 데이터 크기가 더 큰 데이터 타입으로 형 변환을 일괄 적용함\n",
        "  + int형과 문자열이 섞여 있는 list2를 ndarry로 변환한 array2는 숫자형 값 1,2가 모두 문자열 값인 '1', '2'로 변환됨\n",
        "  + int형과 float형이 섞여 있는 list3도 int 1,2 모두 1. 2.인 float64형으로 변환됨"
      ],
      "metadata": {
        "id": "wQXsZputpS7M"
      }
    },
    {
      "cell_type": "code",
      "source": [
        "list2=[1,2,'test']\n",
        "array2=np.array(list2)\n",
        "print(array2, array2.dtype)\n",
        "\n",
        "list3=[1,2,3.0]\n",
        "array3=np.array(list3)\n",
        "print(array3, array3.dtype)"
      ],
      "metadata": {
        "colab": {
          "base_uri": "https://localhost:8080/"
        },
        "id": "o6h-mlwGryrQ",
        "outputId": "74026cff-bdf7-4c26-d700-aa55795186fb"
      },
      "execution_count": null,
      "outputs": [
        {
          "output_type": "stream",
          "name": "stdout",
          "text": [
            "['1' '2' 'test'] <U21\n",
            "[1. 2. 3.] float64\n"
          ]
        }
      ]
    },
    {
      "cell_type": "markdown",
      "source": [
        "* astype(): ndatty 내 데이터값의 타입을 변경해줌\n",
        "  + astype()에 인자로 원하는 타입을 문자열로 지정\n",
        "  + 대용량 데이터의 nadarry를 만들 때 많은 메모리가 사용되는데, 이를 절약해야 할 때 이용\n",
        "  + float을 int형으로 변경할 때 소수점 이하는 당연히 모두 없어짐"
      ],
      "metadata": {
        "id": "Zg27i5y5u9wj"
      }
    },
    {
      "cell_type": "code",
      "source": [
        "array_int=np.array([1,2,3])\n",
        "array_float=array_int.astype('float64')\n",
        "print(array_float,array_float.dtype)\n",
        "\n",
        "array_int1=array_float.astype('int32')\n",
        "print(array_int1, array_int1.dtype)\n",
        "\n",
        "array_float1=np.array([1.1,2.1,3.1])\n",
        "array_int2=array_float1.astype('int32')\n",
        "print(array_int2, array_int2.dtype)"
      ],
      "metadata": {
        "colab": {
          "base_uri": "https://localhost:8080/"
        },
        "id": "JDOxblt7sGnm",
        "outputId": "a9dc593c-aed0-401f-bd88-e78d841a5052"
      },
      "execution_count": null,
      "outputs": [
        {
          "output_type": "stream",
          "name": "stdout",
          "text": [
            "[1. 2. 3.] float64\n",
            "[1 2 3] int32\n",
            "[1 2 3] int32\n"
          ]
        }
      ]
    },
    {
      "cell_type": "markdown",
      "source": [
        "# 3. ndarray를 편리하게 생성하기 - arange, zeros, ones: 테스트용으로 데이터를 만들거나 대규모의 데이터를 일괄적으로 초기화해야할 때 사용\n",
        "* arrange(): array를 range()로 표현, 0부터 함수 인자 값 -1까지의 값을 순차적으로 ndarray의 데이터값으로 변환\n",
        "  + default 함수 인자는 stop값임\n",
        "  + start값도 부여해 0이 아닌 다른 값부터 시작한 연속 값을 부여할 수도 있음\n",
        "  + 0부터 stop값인 10에서 -1을 더한 9까지의 연속 숫자 값으로 구성된 1차원 ndarray를 만들어줌\n",
        "\n",
        "\n"
      ],
      "metadata": {
        "id": "e42M0CPLw05K"
      }
    },
    {
      "cell_type": "code",
      "source": [
        "sequence_array=np.arange(10)\n",
        "print(sequence_array)\n",
        "print(sequence_array.dtype, sequence_array.shape)"
      ],
      "metadata": {
        "colab": {
          "base_uri": "https://localhost:8080/"
        },
        "id": "N5XK_oPxz7kq",
        "outputId": "9eacc188-5f4f-48b6-cf11-d7d18407d8dd"
      },
      "execution_count": null,
      "outputs": [
        {
          "output_type": "stream",
          "name": "stdout",
          "text": [
            "[0 1 2 3 4 5 6 7 8 9]\n",
            "int64 (10,)\n"
          ]
        }
      ]
    },
    {
      "cell_type": "markdown",
      "source": [
        "* zeros(): 함수 인자로 튜플 형태의 shape값을 입력하면 모든 값을 0으로 채운 해당 shape을 가진 ndarray를 반환\n",
        "* ones(): 함수 인자로 튜플 형태의 shape값을 입력하면 모든 값을 1으로 채운 해당 shape을 가진 ndarray를 반환\n",
        "* 함수 인자로 dtype을 정해주지 않으면 default로 float64형의 데이터로 ndarray를 채움"
      ],
      "metadata": {
        "id": "136GZ-zh0P0x"
      }
    },
    {
      "cell_type": "code",
      "source": [
        "zero_array=np.zeros((3,2),dtype='int32')\n",
        "print(zero_array)\n",
        "print(zero_array.dtype,zero_array.shape)\n",
        "\n",
        "one_array=np.ones((3,2))\n",
        "print(one_array)\n",
        "print(one_array.dtype,one_array.shape)"
      ],
      "metadata": {
        "colab": {
          "base_uri": "https://localhost:8080/"
        },
        "id": "2b2o1VN21i-D",
        "outputId": "617d7a7b-5580-4b0d-9107-ac7fb996b3a7"
      },
      "execution_count": null,
      "outputs": [
        {
          "output_type": "stream",
          "name": "stdout",
          "text": [
            "[[0 0]\n",
            " [0 0]\n",
            " [0 0]]\n",
            "int32 (3, 2)\n",
            "[[1. 1.]\n",
            " [1. 1.]\n",
            " [1. 1.]]\n",
            "float64 (3, 2)\n"
          ]
        }
      ]
    },
    {
      "cell_type": "markdown",
      "source": [
        "#4. ndarray의 차원과 크기를 변경하는 reshape(): ndarray를 특정 차원 및 크기로 변환\n",
        "* 변환을 원하는 크기를 함수 인자로 부여\n",
        "  + 0~9까지의 1차원 ndarray를 2로우X5칼럼, 5로우X2칼럼 형태로 2차원 ndarray로 변환해줌"
      ],
      "metadata": {
        "id": "5jH5_93v2W2k"
      }
    },
    {
      "cell_type": "code",
      "source": [
        "array1=np.arange(10)\n",
        "print('array1:\\n',array1)\n",
        "\n",
        "array2=array1.reshape(2,5)\n",
        "print('array2:\\n',array2)\n",
        "\n",
        "array3=array1.reshape(5,2)\n",
        "print('array3:\\n',array3)"
      ],
      "metadata": {
        "colab": {
          "base_uri": "https://localhost:8080/"
        },
        "id": "qapW5P7b5ZiJ",
        "outputId": "960ed827-ce3f-4c8f-c828-fd05dbd39728"
      },
      "execution_count": null,
      "outputs": [
        {
          "output_type": "stream",
          "name": "stdout",
          "text": [
            "array1:\n",
            " [0 1 2 3 4 5 6 7 8 9]\n",
            "array2:\n",
            " [[0 1 2 3 4]\n",
            " [5 6 7 8 9]]\n",
            "array3:\n",
            " [[0 1]\n",
            " [2 3]\n",
            " [4 5]\n",
            " [6 7]\n",
            " [8 9]]\n"
          ]
        }
      ]
    },
    {
      "cell_type": "markdown",
      "source": [
        "* 지정된 사이즈로 변경이 불가능하면 오류 발생\n",
        "  + (10,) 데이터를 (4,3) shape 형태로 변경할 수 없음"
      ],
      "metadata": {
        "id": "qry_AXsw6te-"
      }
    },
    {
      "cell_type": "code",
      "source": [
        "array1.reshape(4,3)"
      ],
      "metadata": {
        "colab": {
          "base_uri": "https://localhost:8080/",
          "height": 146
        },
        "id": "1PansACf7Hgq",
        "outputId": "e2fcdf42-c3e1-43c8-a01b-68bec71666fd"
      },
      "execution_count": null,
      "outputs": [
        {
          "output_type": "error",
          "ename": "ValueError",
          "evalue": "cannot reshape array of size 10 into shape (4,3)",
          "traceback": [
            "\u001b[0;31m---------------------------------------------------------------------------\u001b[0m",
            "\u001b[0;31mValueError\u001b[0m                                Traceback (most recent call last)",
            "\u001b[0;32m/tmp/ipython-input-1938297127.py\u001b[0m in \u001b[0;36m<cell line: 0>\u001b[0;34m()\u001b[0m\n\u001b[0;32m----> 1\u001b[0;31m \u001b[0marray1\u001b[0m\u001b[0;34m.\u001b[0m\u001b[0mreshape\u001b[0m\u001b[0;34m(\u001b[0m\u001b[0;36m4\u001b[0m\u001b[0;34m,\u001b[0m\u001b[0;36m3\u001b[0m\u001b[0;34m)\u001b[0m\u001b[0;34m\u001b[0m\u001b[0;34m\u001b[0m\u001b[0m\n\u001b[0m",
            "\u001b[0;31mValueError\u001b[0m: cannot reshape array of size 10 into shape (4,3)"
          ]
        }
      ]
    },
    {
      "cell_type": "markdown",
      "source": [
        "* 인자로 -1을 적용하는 경우: 원래 ndarray와 호환되는 새로운 shape로 변환\n",
        "  + arrray2: array1과 호환될 수 있는 2차원 ndarray로 변환하되, 고정된 5개의 칼럼에 맞는 로우를 자동으로 새롭게 생성해 변환\n",
        "  + arrray3: array1과 호환될 수 있는 2차원 ndarray로 변환하되, 고정된 5개의 로우에 맞는 칼럼을 자동으로 새롭게 생성해 변환"
      ],
      "metadata": {
        "id": "6EMNT--PAn6H"
      }
    },
    {
      "cell_type": "code",
      "source": [
        "array1=np.arange(10)\n",
        "print(array1)\n",
        "array2=array1.reshape(-1,5)\n",
        "print('array2 shape:', array2.shape)\n",
        "array3=array1.reshape(5,-1)\n",
        "print('array3 shape:',array3.shape)"
      ],
      "metadata": {
        "colab": {
          "base_uri": "https://localhost:8080/"
        },
        "id": "N21UWy9fByhr",
        "outputId": "18ed1bbe-90f8-4a61-d96a-5bd265e84603"
      },
      "execution_count": null,
      "outputs": [
        {
          "output_type": "stream",
          "name": "stdout",
          "text": [
            "[0 1 2 3 4 5 6 7 8 9]\n",
            "array2 shape: (2, 5)\n",
            "array3 shape: (5, 2)\n"
          ]
        }
      ]
    },
    {
      "cell_type": "markdown",
      "source": [
        "  * 데이터와 호환될 수 없는 형태는 변환할 수 없음\n",
        "    + array4: 10개의 1차원 데이터를 고정도니 4개의 칼럼을 가진 로우로는 변경할 수 없음"
      ],
      "metadata": {
        "id": "OfeUNj88CP-W"
      }
    },
    {
      "cell_type": "code",
      "source": [
        "array1=np.arange(10)\n",
        "array4=array1.reshape(-1,4)"
      ],
      "metadata": {
        "colab": {
          "base_uri": "https://localhost:8080/",
          "height": 164
        },
        "id": "vsmwArsxC0ZO",
        "outputId": "49f25398-3c1a-48c5-b40a-7a128b81d908"
      },
      "execution_count": null,
      "outputs": [
        {
          "output_type": "error",
          "ename": "ValueError",
          "evalue": "cannot reshape array of size 10 into shape (4)",
          "traceback": [
            "\u001b[0;31m---------------------------------------------------------------------------\u001b[0m",
            "\u001b[0;31mValueError\u001b[0m                                Traceback (most recent call last)",
            "\u001b[0;32m/tmp/ipython-input-191906038.py\u001b[0m in \u001b[0;36m<cell line: 0>\u001b[0;34m()\u001b[0m\n\u001b[1;32m      1\u001b[0m \u001b[0marray1\u001b[0m\u001b[0;34m=\u001b[0m\u001b[0mnp\u001b[0m\u001b[0;34m.\u001b[0m\u001b[0marange\u001b[0m\u001b[0;34m(\u001b[0m\u001b[0;36m10\u001b[0m\u001b[0;34m)\u001b[0m\u001b[0;34m\u001b[0m\u001b[0;34m\u001b[0m\u001b[0m\n\u001b[0;32m----> 2\u001b[0;31m \u001b[0marray4\u001b[0m\u001b[0;34m=\u001b[0m\u001b[0marray1\u001b[0m\u001b[0;34m.\u001b[0m\u001b[0mreshape\u001b[0m\u001b[0;34m(\u001b[0m\u001b[0;34m-\u001b[0m\u001b[0;36m1\u001b[0m\u001b[0;34m,\u001b[0m\u001b[0;36m4\u001b[0m\u001b[0;34m)\u001b[0m\u001b[0;34m\u001b[0m\u001b[0;34m\u001b[0m\u001b[0m\n\u001b[0m",
            "\u001b[0;31mValueError\u001b[0m: cannot reshape array of size 10 into shape (4)"
          ]
        }
      ]
    },
    {
      "cell_type": "markdown",
      "source": [
        "* reshape(-1,1)\n",
        "  + 원본 ndarray가 어떤 형태이더라도 2차원이고, 여러개의 로우를 가지되 반드시 1개의 칼럼을 가진 ndarray로 변환됨을 보장함\n",
        "  + 여러 개의 넘파이 ndarray는 stack이나 concat으로 결합할 때 각각의 ndarray의 형태를 통일해 유용하게 사용됨\n"
      ],
      "metadata": {
        "id": "EzxO5hq4DBtx"
      }
    },
    {
      "cell_type": "code",
      "source": [
        "array1=np.arange(8)\n",
        "array3d=array1. reshape((2,2,2))\n",
        "print('array3d:\\n',array3d.tolist())\n",
        "\n",
        "#3차원 ndarray를 2차원 ndarray로 변환\n",
        "array5=array3d.reshape(-1,1)\n",
        "print('array5:\\n',array5.tolist())\n",
        "print('array5 shape:', array5.shape)\n",
        "\n",
        "#1차원 ndarray를 2차원 ndarray로 변환\n",
        "array6=array1.reshape(-1,1)\n",
        "print('array6:\\n', array6.tolist())\n",
        "print('array6 shape:', array6.shape)"
      ],
      "metadata": {
        "colab": {
          "base_uri": "https://localhost:8080/"
        },
        "id": "y1iuVjcsHMeA",
        "outputId": "8dc87d1d-80c0-4087-c62a-d21a85065f19"
      },
      "execution_count": null,
      "outputs": [
        {
          "output_type": "stream",
          "name": "stdout",
          "text": [
            "array3d:\n",
            " [[[0, 1], [2, 3]], [[4, 5], [6, 7]]]\n",
            "array5:\n",
            " [[0], [1], [2], [3], [4], [5], [6], [7]]\n",
            "array5 shape: (8, 1)\n",
            "array6:\n",
            " [[0], [1], [2], [3], [4], [5], [6], [7]]\n",
            "array6 shape: (8, 1)\n"
          ]
        }
      ]
    },
    {
      "cell_type": "markdown",
      "source": [
        "#5. 넘파이의 ndarray의 데이터 세트 선택하기 - 인덱싱\n",
        "* 단일 데이터 값 추출을 제외한 슬라이싱, 팬시 인덱싱, 불린 인덱싱으로 추출된 모든 데이터 세트는 모두 ndarray 타입\n",
        "\n",
        "  1> 단일 값 추출\n",
        "* ndarray객체에 해당하는 위치의 인덱스 값을 []안에 입력\n"
      ],
      "metadata": {
        "id": "yfUjqlJoI6Zv"
      }
    },
    {
      "cell_type": "code",
      "source": [
        "#1부터 9까지의 1차원 ndarray 생성\n",
        "array1=np.arange(start=1, stop=10)\n",
        "print('array1:',array1)\n",
        "\n",
        "#인덱스는 0부터 시작하므로 array1[2]는 3번째 인덱스 위치의 데이터값을 의미\n",
        "value=array1[2]\n",
        "print('value:',value)\n",
        "print(type(value))"
      ],
      "metadata": {
        "colab": {
          "base_uri": "https://localhost:8080/"
        },
        "id": "cjsLpLo_KO_V",
        "outputId": "9178e92e-7ff0-44f8-d48c-0830a883419a"
      },
      "execution_count": null,
      "outputs": [
        {
          "output_type": "stream",
          "name": "stdout",
          "text": [
            "array1: [1 2 3 4 5 6 7 8 9]\n",
            "value: 3\n",
            "<class 'numpy.int64'>\n"
          ]
        }
      ]
    },
    {
      "cell_type": "markdown",
      "source": [
        "* 인덱스에 마이너스 기호를 이용하면 맨 뒤에서부터 데이터를 추출"
      ],
      "metadata": {
        "id": "J4nqfVZHK5Zh"
      }
    },
    {
      "cell_type": "code",
      "source": [
        "print('맨 뒤의 값:', array1[-1], '맨 뒤에서 두 번째 값:', array1[-2])"
      ],
      "metadata": {
        "colab": {
          "base_uri": "https://localhost:8080/"
        },
        "id": "8v6vVR3zLAAR",
        "outputId": "95169f40-0cf0-4432-f7a2-e82ed5ef36bb"
      },
      "execution_count": null,
      "outputs": [
        {
          "output_type": "stream",
          "name": "stdout",
          "text": [
            "맨 뒤의 값: 9 맨 뒤에서 두 번째 값: 8\n"
          ]
        }
      ]
    },
    {
      "cell_type": "markdown",
      "source": [
        "* ndarray 내의 데이터값도 간단히 수정 가능"
      ],
      "metadata": {
        "id": "-XsHBANyLcLg"
      }
    },
    {
      "cell_type": "code",
      "source": [
        "array1[0]=9\n",
        "array1[8]=0\n",
        "print('array1:', array1)"
      ],
      "metadata": {
        "colab": {
          "base_uri": "https://localhost:8080/"
        },
        "id": "6rdYBQ8GLk7v",
        "outputId": "9912c651-3536-4b10-ccd7-e9abb3308b26"
      },
      "execution_count": null,
      "outputs": [
        {
          "output_type": "stream",
          "name": "stdout",
          "text": [
            "array1: [9 2 3 4 5 6 7 8 0]\n"
          ]
        }
      ]
    },
    {
      "cell_type": "markdown",
      "source": [
        "* 다차원 ndarray에서 단일 값 추출\n",
        "  + axis 0은 로우(행) 방향의 축, axis 1은 칼럼(열) 방향의 축을 의미함\n",
        "  + 넘파이 ndarray에서는 로우와 칼럽을 사용하지 않음\n",
        "  + 축 기반의 연산에서 axis가 생략되면 axis 0을 의미함"
      ],
      "metadata": {
        "id": "vZAaXU4jL9R-"
      }
    },
    {
      "cell_type": "code",
      "source": [
        "#1차원 ndarray를 2차원의 3X3으로 변환\n",
        "array1d=np.arange(start=1, stop=10)\n",
        "array2d=array1d.reshape(3,3)\n",
        "print(array2d)\n",
        "\n",
        "#[row.col]을 이용해 2차원 ndarray에서 데이터 추출\n",
        "print('(row=o,col=0) index 가리키는 값:', array2d[0,0])\n",
        "print('(row=o,col=1) index 가리키는 값:', array2d[0,1])\n",
        "print('(row=1,col=0) index 가리키는 값:', array2d[1,0])\n",
        "print('(row=2,col=2) index 가리키는 값:', array2d[2,2])"
      ],
      "metadata": {
        "colab": {
          "base_uri": "https://localhost:8080/"
        },
        "id": "47WWqWtuNuBk",
        "outputId": "6cad3a52-37c2-49a7-c791-0667457e5623"
      },
      "execution_count": null,
      "outputs": [
        {
          "output_type": "stream",
          "name": "stdout",
          "text": [
            "[[1 2 3]\n",
            " [4 5 6]\n",
            " [7 8 9]]\n",
            "(row=o,col=0) index 가리키는 값: 1\n",
            "(row=o,col=1) index 가리키는 값: 2\n",
            "(row=1,col=0) index 가리키는 값: 4\n",
            "(row=2,col=2) index 가리키는 값: 9\n"
          ]
        }
      ]
    },
    {
      "cell_type": "markdown",
      "source": [
        "  2> 슬라이싱\n",
        "* : 사이에 시작 인덱스와 종료 인덱스를 표시하면 '시작 인덱스~종료 인덱스-1'에 있는 데이터 ndarray를 반환\n",
        "\n",
        "\n"
      ],
      "metadata": {
        "id": "fPg8ezOGOblA"
      }
    },
    {
      "cell_type": "code",
      "source": [
        "array1=np.arange(start=1, stop=10)\n",
        "array3=array1[0:3]\n",
        "print(array3)\n",
        "print(type(array3))"
      ],
      "metadata": {
        "colab": {
          "base_uri": "https://localhost:8080/"
        },
        "id": "v4kxzOYsPZp8",
        "outputId": "47c01bb9-3d3b-4e3d-9ad4-5d2f4ccdf616"
      },
      "execution_count": null,
      "outputs": [
        {
          "output_type": "stream",
          "name": "stdout",
          "text": [
            "[1 2 3]\n",
            "<class 'numpy.ndarray'>\n"
          ]
        }
      ]
    },
    {
      "cell_type": "markdown",
      "source": [
        "* : 사이의 시작, 종료 인덱스는 생략 가능\n",
        "  "
      ],
      "metadata": {
        "id": "iPix6hO8Prnu"
      }
    },
    {
      "cell_type": "code",
      "source": [
        "# : 앞에 시작 인덱스를 생략하면 자동으로 맨 처음 인덱스인 0으로 간주\n",
        "array1 = np.arange(start=1, stop=10)\n",
        "array4=array1[:3]\n",
        "print(array4)\n",
        "\n",
        "# : 뒤에 종료 인덱스를 생략하면 자동으로 맨 마지막 인덱스로 간주\n",
        "array5=array1[3:]\n",
        "print(array5)\n",
        "\n",
        "# : 기호 앞/뒤에 시작/종료 인덱스를 생략하면 자동으로 맨 처음/마지막 인덱스로 간주\n",
        "array6=array1[:]\n",
        "print(array6)\n"
      ],
      "metadata": {
        "colab": {
          "base_uri": "https://localhost:8080/"
        },
        "id": "G-quYC2mP0W2",
        "outputId": "de4e36db-260e-4219-df13-1f69850dd0bd"
      },
      "execution_count": null,
      "outputs": [
        {
          "output_type": "stream",
          "name": "stdout",
          "text": [
            "[1 2 3]\n",
            "[4 5 6 7 8 9]\n",
            "[1 2 3 4 5 6 7 8 9]\n"
          ]
        }
      ]
    },
    {
      "cell_type": "markdown",
      "source": [
        "* 2차원 ndarray에서 슬라이싱: 콤마로 로우와 칼럼 인덱스를 지칭하는 부분만 다름\n",
        "\n"
      ],
      "metadata": {
        "id": "OwtxnZaIQmRY"
      }
    },
    {
      "cell_type": "code",
      "source": [
        "array1d=np.arange(start=1, stop=10)\n",
        "array2d=array1d.reshape(3,3)\n",
        "print('array2d:\\n',array2d)\n",
        "\n",
        "print('array2d[0:2,0:2]\\n',array2d[0:2,0:2])\n",
        "print('array2d[1:3,0:3]\\n',array2d[1:3,0:3])\n",
        "print('array2d[1:3,:]\\n',array2d[1:3,:])\n",
        "print('array2d[:,:]\\n',array2d[:,:])\n",
        "print('array2d[:2,1:]\\n',array2d[:2,1:])\n",
        "\n",
        "# 로우나 컬럼 축 한쪽에만 슬라이싱을 적용하고, 다른 쪽 축에는 단일 값 인덱스를 적용해도 됨\n",
        "print('array2d[:2,0]\\n',array2d[:2,0])"
      ],
      "metadata": {
        "colab": {
          "base_uri": "https://localhost:8080/"
        },
        "id": "thwH22faSUev",
        "outputId": "47878093-ecbd-4b87-8ce1-7d00806a004b"
      },
      "execution_count": null,
      "outputs": [
        {
          "output_type": "stream",
          "name": "stdout",
          "text": [
            "array2d:\n",
            " [[1 2 3]\n",
            " [4 5 6]\n",
            " [7 8 9]]\n",
            "array2d[0:2,0:2]\n",
            " [[1 2]\n",
            " [4 5]]\n",
            "array2d[1:3,0:3]\n",
            " [[4 5 6]\n",
            " [7 8 9]]\n",
            "array2d[1:3,:]\n",
            " [[4 5 6]\n",
            " [7 8 9]]\n",
            "array2d[:,:]\n",
            " [[1 2 3]\n",
            " [4 5 6]\n",
            " [7 8 9]]\n",
            "array2d[:2,1:]\n",
            " [[2 3]\n",
            " [5 6]]\n",
            "array2d[:2,0]\n",
            " [1 4]\n"
          ]
        }
      ]
    },
    {
      "cell_type": "markdown",
      "source": [
        "* 2차원 ndarray에서 뒤에 오는 인덱스를 없애면 1차원 ndarray를 반환함\n",
        "* 3차원 ndarray에서 뒤에 오는 인덱스를 없애면 2차원 ndarray를 반환함"
      ],
      "metadata": {
        "id": "TTdQ8gBATZw6"
      }
    },
    {
      "cell_type": "code",
      "source": [
        "# 로우 축(axis 0)의 첫 번째 로우 ndarray(1차원)를 반환함\n",
        "print(array2d[0])\n",
        "print(array2d[1])\n",
        "print('array2d[0] shape:',array2d[0].shape, 'array2d[1] shape:',array2d[1].shape)"
      ],
      "metadata": {
        "colab": {
          "base_uri": "https://localhost:8080/"
        },
        "id": "CZ8coC-8UQuJ",
        "outputId": "9f0816b4-453a-4b73-a78b-66672b06d652"
      },
      "execution_count": null,
      "outputs": [
        {
          "output_type": "stream",
          "name": "stdout",
          "text": [
            "[1 2 3]\n",
            "[4 5 6]\n",
            "array2d[0] shape: (3,) array2d[1] shape: (3,)\n"
          ]
        }
      ]
    },
    {
      "cell_type": "markdown",
      "source": [
        "  3> 팬시 인덱싱: 리스트나 ndarray로 인덱스 집합을 지정하면 해당 위치에 인덱스에 해당하는 ndarray를 반환하는 인덱싱 방식"
      ],
      "metadata": {
        "id": "1DLuukFFUz6F"
      }
    },
    {
      "cell_type": "code",
      "source": [
        "array1d=np.arange(start=1, stop=10)\n",
        "array2d=array1d.reshape(3,3)\n",
        "\n",
        "# (0.2),(1,2) 인덱싱 적용\n",
        "array3=array2d[[0,1],2]\n",
        "print('array2d[[0,1],2]=>', array3.tolist())\n",
        "\n",
        "# ((0,0),(0,1)),((1,0),(1,1)) 인덱싱 적용\n",
        "array4=array2d[[0,1],0:2]\n",
        "print('array2d[[0,1],0:2]=>', array4.tolist())\n",
        "\n",
        "# ((0,:),(1,:)) 인덱싱 적용\n",
        "array5=array2d[[0,1]]\n",
        "print('array2d[[0,1]]=>', array5.tolist())"
      ],
      "metadata": {
        "colab": {
          "base_uri": "https://localhost:8080/"
        },
        "id": "ac7bAiuxYoPm",
        "outputId": "86bdaa04-a9f9-4e0d-cb3a-b7faeeffda99"
      },
      "execution_count": null,
      "outputs": [
        {
          "output_type": "stream",
          "name": "stdout",
          "text": [
            "array2d[[0,1],2]=> [3, 6]\n",
            "array2d[[0,1],0:2]=> [[1, 2], [4, 5]]\n",
            "array2d[[0,1]]=> [[1, 2, 3], [4, 5, 6]]\n"
          ]
        }
      ]
    },
    {
      "cell_type": "markdown",
      "source": [
        "4> 불린 인덱싱\n",
        "* 조건 필터링과 검색을 동시에 할 수 있기 때문에 매우 자주 사용됨\n",
        "* ndarray의 인덱스를 지정하는 []내에 조건문을 그대로 기재"
      ],
      "metadata": {
        "id": "ssaIaS0La8wm"
      }
    },
    {
      "cell_type": "code",
      "source": [
        "array1d=np.arange(start=1, stop=10)\n",
        "\n",
        "# [] 안에 array1d > 5 불린 인덱싱을 적용\n",
        "array3=array1d[array1d>5]\n",
        "print('array1d>5 불린 인덱싱 결과 값:', array3)"
      ],
      "metadata": {
        "colab": {
          "base_uri": "https://localhost:8080/"
        },
        "id": "rcLNrcQqb0Io",
        "outputId": "6cc19f51-ee36-48a2-fc1b-fe85d1dd851f"
      },
      "execution_count": null,
      "outputs": [
        {
          "output_type": "stream",
          "name": "stdout",
          "text": [
            "array1d>5 불린 인덱싱 결과 값: [6 7 8 9]\n"
          ]
        }
      ]
    },
    {
      "cell_type": "markdown",
      "source": [
        "* 조건으로 반환된 ndarray 객체를 인덱싱을 지정하는 [] 내에 입력하면 false 값은 무시하고 true 값이 있는 위치 인덱스 값으로 자동 변환해 해당하는 인덱스 위치의 데이터만 반환함"
      ],
      "metadata": {
        "id": "9XwyIFQwcRM2"
      }
    },
    {
      "cell_type": "code",
      "source": [
        "array1d>5"
      ],
      "metadata": {
        "colab": {
          "base_uri": "https://localhost:8080/"
        },
        "id": "LKwrOX2ccjQu",
        "outputId": "e18124d8-3193-4f39-e0a9-38c4c7d7b590"
      },
      "execution_count": null,
      "outputs": [
        {
          "output_type": "execute_result",
          "data": {
            "text/plain": [
              "array([False, False, False, False, False,  True,  True,  True,  True])"
            ]
          },
          "metadata": {},
          "execution_count": 49
        }
      ]
    },
    {
      "cell_type": "markdown",
      "source": [
        "* 불린 ndarray를 만들고 이를 array1d[] 내에 입력하면 동일한 데이터세트가 반환됨"
      ],
      "metadata": {
        "id": "yVLyOZCEctwE"
      }
    },
    {
      "cell_type": "code",
      "source": [
        "boolean_indexes=np.array([False,False,False,False,False,True,True,True,True])\n",
        "array3=array1d[boolean_indexes]\n",
        "print('불린 인덱스로 필터링 결과:',array3)"
      ],
      "metadata": {
        "colab": {
          "base_uri": "https://localhost:8080/"
        },
        "id": "dMQfmGU6dLfJ",
        "outputId": "288161ab-6d41-4b01-ddb2-1d714748fcd8"
      },
      "execution_count": null,
      "outputs": [
        {
          "output_type": "stream",
          "name": "stdout",
          "text": [
            "불린 인덱스로 필터링 결과: [6 7 8 9]\n"
          ]
        }
      ]
    },
    {
      "cell_type": "code",
      "source": [
        "indexes=np.array([5,6,7,8])\n",
        "array4=array1d[indexes]\n",
        "print('일반 인덱스로 필터링 결과:', array4)"
      ],
      "metadata": {
        "colab": {
          "base_uri": "https://localhost:8080/"
        },
        "id": "ULoD_D-ndx3_",
        "outputId": "a5245a84-9863-45a5-a9ad-a9a1064691a0"
      },
      "execution_count": null,
      "outputs": [
        {
          "output_type": "stream",
          "name": "stdout",
          "text": [
            "일반 인덱스로 필터링 결과: [6 7 8 9]\n"
          ]
        }
      ]
    },
    {
      "cell_type": "markdown",
      "source": [
        "* 불린 인덱싱이 동작하는 단계\n",
        "  + step 1: array1d > 5와 같이 ndarray의 필터링 조건을 []안에 기재\n",
        "  + step 2: False 값은 무시하고 True 값에 해당하는 인덱스값만 저장(True값 자체인 1을 저장하는 것이 아니라 True값을 가진 인덱스를 저장함)\n",
        "  + step 3: 저장된 인덱스 데이터 세트로 ndarray 조회"
      ],
      "metadata": {
        "id": "2Kun0NNiecCD"
      }
    },
    {
      "cell_type": "markdown",
      "source": [
        "#6. 행렬의 정렬 - sort()와 argsort()\n",
        "1> 행렬 정렬\n",
        "* np.sort(): 원 행렬은 그대로 유지한 채 원 행렬의 정렬된 행렬을 반환함\n",
        "* ndarray.sort(): 원 행렬 자체를 정렬한 형태로 변환하며 반환 값은 None임"
      ],
      "metadata": {
        "id": "6ef-zaSnq4KT"
      }
    },
    {
      "cell_type": "code",
      "source": [
        "org_array=np.array([3,1,9,5])\n",
        "print('원본 행렬:',org_array)\n",
        "\n",
        "# np.sort()로 정렬\n",
        "sort_array1=np.sort(org_array)\n",
        "print('np.sort() 호출 후 반환된 정렬 행렬:', sort_array1)\n",
        "print('np.sort() 호출 후 원본 행렬:', org_array)\n",
        "\n",
        "# ndarray.sort()로 정렬\n",
        "sort_array2=org_array.sort()\n",
        "print('org_array.sort() 호출 후 반환된 행렬:',sort_array2)\n",
        "print('org_array.sort() 호출 후 원본 행렬:',org_array)"
      ],
      "metadata": {
        "colab": {
          "base_uri": "https://localhost:8080/"
        },
        "id": "RtTxnQX7tATU",
        "outputId": "1146b3d2-e3fb-4e46-e536-86bbb5bda812"
      },
      "execution_count": 53,
      "outputs": [
        {
          "output_type": "stream",
          "name": "stdout",
          "text": [
            "원본 행렬: [3 1 9 5]\n",
            "np.sort() 호출 후 반환된 정렬 행렬: [1 3 5 9]\n",
            "np.sort() 호출 후 원본 행렬: [3 1 9 5]\n",
            "org_array.sort() 호출 후 반환된 행렬: None\n",
            "org_array.sort() 호출 후 원본 행렬: [1 3 5 9]\n"
          ]
        }
      ]
    },
    {
      "cell_type": "markdown",
      "source": [
        "* 기본적으로 오름차순이나 내림차순으로 정렬하기 위해서는 [::-1]을 적용함"
      ],
      "metadata": {
        "id": "pbhKanGBu7ns"
      }
    },
    {
      "cell_type": "code",
      "source": [
        "sort_array1_desc=np.sort(org_array)[::-1]\n",
        "print('내림차순으로 정렬:', sort_array1_desc)"
      ],
      "metadata": {
        "colab": {
          "base_uri": "https://localhost:8080/"
        },
        "id": "wEt9I7wbvEqu",
        "outputId": "5aa496b5-68d7-425c-9958-aca62b555031"
      },
      "execution_count": 56,
      "outputs": [
        {
          "output_type": "stream",
          "name": "stdout",
          "text": [
            "내림차순으로 정렬: [9 5 3 1]\n"
          ]
        }
      ]
    },
    {
      "cell_type": "markdown",
      "source": [
        "* 행렬이 2차원 이상일 경우 axis 축 값 설정을 통해 로우(열) 방향, 또는 칼럼(행) 방향으로 정렬을 수행할 수 있음"
      ],
      "metadata": {
        "id": "t6Zrk-EtweT4"
      }
    },
    {
      "cell_type": "code",
      "source": [
        "array2d=np.array([[8,12],[7,1]])\n",
        "sort_array2d_axis0=np.sort(array2d,axis=0)\n",
        "print('로우 방향으로 정렬:\\n', sort_array2d_axis0)\n",
        "sort_array2d_axis1=np.sort(array2d,axis=1)\n",
        "print('칼럼 방향으로 정렬:\\n', sort_array2d_axis1)"
      ],
      "metadata": {
        "colab": {
          "base_uri": "https://localhost:8080/"
        },
        "id": "13SdQ3UMwTNQ",
        "outputId": "7f20c632-0e79-4d5f-e03e-3facd9fd8bba"
      },
      "execution_count": 57,
      "outputs": [
        {
          "output_type": "stream",
          "name": "stdout",
          "text": [
            "로우 방향으로 정렬:\n",
            " [[ 7  1]\n",
            " [ 8 12]]\n",
            "칼럼 방향으로 정렬:\n",
            " [[ 8 12]\n",
            " [ 1  7]]\n"
          ]
        }
      ]
    },
    {
      "cell_type": "markdown",
      "source": [
        "2>정렬된 행렬의 인덱스를 반환하기: np.argsort()를 이용하여 정렬 행렬의 원본 행렬 인덱스를 ndarray형으로 반환함"
      ],
      "metadata": {
        "id": "umP0b7ZExlT_"
      }
    },
    {
      "cell_type": "code",
      "source": [
        "org_array=np.array([3,1,9,5])\n",
        "sort_indices=np.argsort(org_array)\n",
        "print(type(sort_indices))\n",
        "print('행렬 정렬 시 원본 행렬의 인덱스:',sort_indices)"
      ],
      "metadata": {
        "colab": {
          "base_uri": "https://localhost:8080/"
        },
        "id": "JGVilhZeyWn8",
        "outputId": "2abe759f-a21c-4545-95e8-f0ef9687a81a"
      },
      "execution_count": 58,
      "outputs": [
        {
          "output_type": "stream",
          "name": "stdout",
          "text": [
            "<class 'numpy.ndarray'>\n",
            "행렬 정렬 시 원본 행렬의 인덱스: [1 0 3 2]\n"
          ]
        }
      ]
    },
    {
      "cell_type": "markdown",
      "source": [
        "* 기본적으로 오름차순이나 내림차순으로 정렬하기 위해서는 [::-1]을 적용함"
      ],
      "metadata": {
        "id": "m0Pdi8y9zBfv"
      }
    },
    {
      "cell_type": "code",
      "source": [
        "org_array=np.array([3,1,9,5])\n",
        "sort_indices_desc=np.argsort(org_array)[::-1]\n",
        "print('행렬 내림차순 정렬 시 원본 행렬의 인덱스:',sort_indices_desc)"
      ],
      "metadata": {
        "colab": {
          "base_uri": "https://localhost:8080/"
        },
        "id": "ZNvjB0IMzRU9",
        "outputId": "d693f884-651a-4e72-8658-fc007628ae33"
      },
      "execution_count": 60,
      "outputs": [
        {
          "output_type": "stream",
          "name": "stdout",
          "text": [
            "행렬 내림차순 정렬 시 원본 행렬의 인덱스: [2 3 0 1]\n"
          ]
        }
      ]
    },
    {
      "cell_type": "markdown",
      "source": [
        "* 넘파이의 ndarray는 메타 데이터를 가질 수 없으므로 실제 값과 그 값이 뜻하는 메타 데이터를 별도의 ndarray로 각각 가져야만 함"
      ],
      "metadata": {
        "id": "E7zGH5hV19A6"
      }
    },
    {
      "cell_type": "code",
      "source": [
        "import numpy as np\n",
        "\n",
        "name_array=np.array(['John', 'Mike', 'Sarah', 'Kate' , 'Samuel'])\n",
        "score_array=np.array([78,95,84,98,88])\n",
        "\n",
        "sort_indices_asc=np.argsort(score_array)\n",
        "print('성적 오름차순 정렬 시 score_array의 인덱스:', sort_indices_asc)\n",
        "print('성적 오름차순으로 name_array의 이름 출력:', name_array[sort_indices_asc])"
      ],
      "metadata": {
        "colab": {
          "base_uri": "https://localhost:8080/"
        },
        "id": "QfMW3iNx2cL3",
        "outputId": "f1e27e16-fc11-45a1-a4e1-13631804d9e1"
      },
      "execution_count": 62,
      "outputs": [
        {
          "output_type": "stream",
          "name": "stdout",
          "text": [
            "성적 오름차순 정렬 시 score_array의 인덱스: [0 2 4 1 3]\n",
            "성적 오름차순으로 name_array의 이름 출력: ['John' 'Sarah' 'Samuel' 'Mike' 'Kate']\n"
          ]
        }
      ]
    },
    {
      "cell_type": "markdown",
      "source": [
        "#7. 선형대수 연산 - 행렬 내적과 전치 행렬 구하기\n",
        "1> 행렬 내적(행렬 곱): np.dot()\n",
        "* 두 행렬 A와 B의 내적은 np.dot()을 이용해 계산 가능\n",
        "* 왼쪽 행렬의 열의 개수와 오른쪽 행렬의 행의 개수가 동일해야 내적 연산 가능"
      ],
      "metadata": {
        "id": "qF8wiod03Va9"
      }
    },
    {
      "cell_type": "code",
      "source": [
        "A=np.array([[1,2,3],[4,5,6]])\n",
        "B=np.array([[7,8],[9,10],[11,12]])\n",
        "dot_product=np.dot(A,B)\n",
        "print('행렬 내적 결과:\\n',dot_product)"
      ],
      "metadata": {
        "colab": {
          "base_uri": "https://localhost:8080/"
        },
        "id": "IIfhf7DG4aWm",
        "outputId": "7046ddee-3070-47d8-d116-25c680ee4561"
      },
      "execution_count": 63,
      "outputs": [
        {
          "output_type": "stream",
          "name": "stdout",
          "text": [
            "행렬 내적 결과:\n",
            " [[ 58  64]\n",
            " [139 154]]\n"
          ]
        }
      ]
    },
    {
      "cell_type": "markdown",
      "source": [
        "2> 전치 행렬: transpose()\n",
        "* 원 행렬에서 행과 열 위치를 교환한 원소로 구성된 행렬"
      ],
      "metadata": {
        "id": "ZR2YJZGg5LOj"
      }
    },
    {
      "cell_type": "code",
      "source": [
        "A=np.array([[1,2],[3,4]])\n",
        "transpose_mat=np.transpose(A)\n",
        "print('A의 전치 행렬:\\n', transpose_mat)"
      ],
      "metadata": {
        "colab": {
          "base_uri": "https://localhost:8080/"
        },
        "id": "s4yvJRKw5q60",
        "outputId": "10490d3b-3019-4cf9-cd62-29c8c9a6cc1c"
      },
      "execution_count": 64,
      "outputs": [
        {
          "output_type": "stream",
          "name": "stdout",
          "text": [
            "A의 전치 행렬:\n",
            " [[1 3]\n",
            " [2 4]]\n"
          ]
        }
      ]
    }
  ]
}